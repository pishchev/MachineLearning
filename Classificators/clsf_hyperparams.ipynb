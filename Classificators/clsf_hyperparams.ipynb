{
 "cells": [
  {
   "cell_type": "code",
   "execution_count": 1,
   "metadata": {},
   "outputs": [],
   "source": [
    "import numpy as np\n",
    "import matplotlib.pyplot as plt\n",
    "\n",
    "from sklearn.datasets import fetch_openml\n",
    "\n",
    "from sklearn.model_selection import train_test_split\n",
    "from sklearn.utils import check_random_state\n",
    "from sklearn.preprocessing import StandardScaler\n",
    "from sklearn.model_selection import KFold\n",
    "from sklearn.metrics import accuracy_score\n",
    "\n",
    "from sklearn.linear_model import LogisticRegression\n",
    "from sklearn.neighbors import KNeighborsClassifier\n",
    "from sklearn.svm import SVC\n",
    "from sklearn.tree import DecisionTreeClassifier\n",
    "\n",
    "X, y = fetch_openml(\"mnist_784\", version=1, return_X_y=True, as_frame=False)"
   ]
  },
  {
   "cell_type": "markdown",
   "metadata": {},
   "source": [
    "# Prepairing dataset"
   ]
  },
  {
   "cell_type": "code",
   "execution_count": 4,
   "metadata": {},
   "outputs": [
    {
     "name": "stdout",
     "output_type": "stream",
     "text": [
      "Train set size short =  5950\n",
      "Test set size short  =  1050\n",
      "Train set size =  53550\n",
      "Test set size =  9450\n"
     ]
    },
    {
     "data": {
      "image/png": "[encoded data removed]",
      "text/plain": [
       "<Figure size 432x288 with 5 Axes>"
      ]
     },
     "metadata": {
      "needs_background": "light"
     },
     "output_type": "display_data"
    }
   ],
   "source": [
    "X_TRAIN, X_TEST, Y_TRAIN, Y_TEST = train_test_split( X, y, test_size=0.9, train_size=0.1)\n",
    "x_train, x_test, y_train, y_test = train_test_split( X_TEST, Y_TEST, test_size=0.15)\n",
    "x_train_s, x_test_s, y_train_s, y_test_s = train_test_split( X_TRAIN, Y_TRAIN, test_size=0.15)\n",
    "\n",
    "print('Train set size short = ', x_train_s.shape[0])\n",
    "print('Test set size short  = ', x_test_s.shape[0])\n",
    "\n",
    "print('Train set size = ', x_train.shape[0])\n",
    "print('Test set size = ', x_test.shape[0])\n",
    "\n",
    "for i in range(5):\n",
    "    plt.subplot(1,5,i+1)  \n",
    "    plt.axis('off')\n",
    "    plt.imshow(np.reshape(x_train[i], (28,28)))"
   ]
  },
  {
   "cell_type": "markdown",
   "metadata": {},
   "source": [
    "# Logistic Regression"
   ]
  },
  {
   "cell_type": "code",
   "execution_count": 21,
   "metadata": {},
   "outputs": [
    {
     "name": "stdout",
     "output_type": "stream",
     "text": [
      "Best model params: \n",
      "Penalty: l1 | Tol: 0.1 | Solver: saga - > Accuracy = 0.9142857142857143\n"
     ]
    }
   ],
   "source": [
    "hyperParameters = {\n",
    "    'penalty':['l1','l2'],\n",
    "    'tol':[0.01, 0.1, 1],\n",
    "    'solver':['newton-cg', 'lbfgs', 'liblinear', 'saga']\n",
    "}\n",
    "\n",
    "best_model = None\n",
    "best_params = {\n",
    "    'penalty':'l1',\n",
    "    'tol':0.01,\n",
    "    'solver':'newton-cg'\n",
    "}\n",
    "\n",
    "best_acc_score = 0\n",
    "\n",
    "size = len(hyperParameters['penalty'])*len(hyperParameters['tol'])*len(hyperParameters['solver'])\n",
    "counter = 1\n",
    "\n",
    "for penalty in hyperParameters['penalty']:\n",
    "    for tol in hyperParameters['tol']:\n",
    "        for solver in hyperParameters['solver']:\n",
    "            print(\"\\r{0}/{1} : Penalty: {2} | Tol: {3} | Solver: {4}\".format(counter, size, penalty, tol, solver), end='')\n",
    "            counter += 1\n",
    "            try:\n",
    "                model = LogisticRegression(penalty=penalty, tol=tol, solver=solver, max_iter=2000)\n",
    "                model.fit(x_train_s, y_train_s)\n",
    "                acc_score = accuracy_score(y_test_s, model.predict(x_test_s))\n",
    "                if acc_score > best_acc_score:\n",
    "                    best_params['penalty'] = penalty\n",
    "                    best_params['tol'] = tol\n",
    "                    best_params['solver'] = solver\n",
    "                    best_acc_score = acc_score\n",
    "                    best_model = model\n",
    "            except Exception as ex:\n",
    "                continue\n",
    "\n",
    "print(\"\\rBest model params: \\nPenalty: {0} | Tol: {1} | Solver: {2} - > Accuracy = {3}\".format(best_params['penalty'], best_params['tol'], best_params['solver'], best_acc_score))"
   ]
  },
  {
   "cell_type": "code",
   "execution_count": 22,
   "metadata": {},
   "outputs": [
    {
     "name": "stdout",
     "output_type": "stream",
     "text": [
      "Accuracy:  0.9225396825396825\n"
     ]
    }
   ],
   "source": [
    "best_model.fit(x_train, y_train)\n",
    "print(\"Accuracy: \", accuracy_score(y_test, best_model.predict(x_test)))"
   ]
  },
  {
   "cell_type": "markdown",
   "metadata": {},
   "source": [
    "# KNN"
   ]
  },
  {
   "cell_type": "code",
   "execution_count": 7,
   "metadata": {},
   "outputs": [
    {
     "name": "stdout",
     "output_type": "stream",
     "text": [
      "Best model params: \n",
      "Algorithm: ball_tree | P: 2 | N_neighbors: 3 - > Accuracy = 0.9361904761904762\n"
     ]
    }
   ],
   "source": [
    "hyperParameters = {\n",
    "    'algorithm' : ['ball_tree', 'kd_tree', 'brute'],\n",
    "    'p' : [1, 2],\n",
    "    'n_neighbors':[1, 3, 5, 7]\n",
    "}\n",
    "\n",
    "best_model = None\n",
    "best_params = {\n",
    "    'algorithm' : 'ball_tree',\n",
    "    'p' : 1,\n",
    "    'n_neighbors':1\n",
    "}\n",
    "\n",
    "best_acc_score = 0\n",
    "\n",
    "size = len(hyperParameters['algorithm'])*len(hyperParameters['p'])*len(hyperParameters['n_neighbors'])\n",
    "counter = 1\n",
    "\n",
    "for algorithm in hyperParameters['algorithm']:\n",
    "    for p in hyperParameters['p']:\n",
    "        for n_neighbors in hyperParameters['n_neighbors']:\n",
    "            print(\"\\r{0}/{1} : Algorithm: {2} | P: {3} | N_neighbors: {4}\".format(counter, size, algorithm, p, n_neighbors), end='')\n",
    "            counter += 1\n",
    "            try:\n",
    "                model = KNeighborsClassifier(algorithm=algorithm, p=p, n_neighbors=n_neighbors)\n",
    "                model.fit(x_train_s, y_train_s)\n",
    "                acc_score = accuracy_score(y_test_s, model.predict(x_test_s))\n",
    "                if acc_score > best_acc_score:\n",
    "                    best_params['algorithm'] = algorithm\n",
    "                    best_params['p'] = p\n",
    "                    best_params['n_neighbors'] = n_neighbors\n",
    "                    best_acc_score = acc_score\n",
    "                    best_model = model\n",
    "            except Exception as ex:\n",
    "                continue\n",
    "\n",
    "print(\"\\rBest model params: \\nAlgorithm: {0} | P: {1} | N_neighbors: {2} - > Accuracy = {3}\".format(best_params['algorithm'], best_params['p'], best_params['n_neighbors'], best_acc_score))"
   ]
  },
  {
   "cell_type": "code",
   "execution_count": 8,
   "metadata": {},
   "outputs": [
    {
     "name": "stdout",
     "output_type": "stream",
     "text": [
      "Accuracy:  0.9731216931216932\n"
     ]
    }
   ],
   "source": [
    "best_model.fit(x_train, y_train)\n",
    "print(\"Accuracy: \", accuracy_score(y_test, best_model.predict(x_test)))"
   ]
  },
  {
   "cell_type": "markdown",
   "metadata": {},
   "source": [
    "# Decision Tree"
   ]
  },
  {
   "cell_type": "code",
   "execution_count": 16,
   "metadata": {},
   "outputs": [
    {
     "name": "stdout",
     "output_type": "stream",
     "text": [
      "Best model params: \n",
      "Criterion: entropy | Splitter: best | Max_depth: 14 - > Accuracy = 0.8152380952380952\n"
     ]
    }
   ],
   "source": [
    "hyperParameters = {\n",
    "    'criterion' : [\"gini\", \"entropy\"],\n",
    "    'splitter': [\"best\", \"random\"],\n",
    "    'max_depth':[i for i in range(5, 20)]\n",
    "}\n",
    "\n",
    "best_model = None\n",
    "best_params = {\n",
    "    'criterion' : 'ball_tree',\n",
    "    'splitter' : 1,\n",
    "    'max_depth':1\n",
    "}\n",
    "\n",
    "best_acc_score = 0\n",
    "\n",
    "size = len(hyperParameters['criterion'])*len(hyperParameters['splitter'])*len(hyperParameters['max_depth'])\n",
    "counter = 1\n",
    "\n",
    "for criterion in hyperParameters['criterion']:\n",
    "    for splitter in hyperParameters['splitter']:\n",
    "        for max_depth in hyperParameters['max_depth']:\n",
    "            print(\"\\r{0}/{1} : Criterion: {2} | Splitter: {3} | Max_depth: {4}\".format(counter, size, criterion, splitter, max_depth), end='')\n",
    "            counter += 1\n",
    "            try:\n",
    "                model = DecisionTreeClassifier(criterion=criterion, splitter=splitter, max_depth=max_depth)\n",
    "                model.fit(x_train_s, y_train_s)\n",
    "                acc_score = accuracy_score(y_test_s, model.predict(x_test_s))\n",
    "                if acc_score > best_acc_score:\n",
    "                    best_params['criterion'] = criterion\n",
    "                    best_params['splitter'] = splitter\n",
    "                    best_params['max_depth'] = max_depth\n",
    "                    best_acc_score = acc_score\n",
    "                    best_model = model\n",
    "            except Exception as ex:\n",
    "                continue\n",
    "\n",
    "print(\"\\rBest model params: \\nCriterion: {0} | Splitter: {1} | Max_depth: {2} - > Accuracy = {3}\".format(best_params['criterion'], best_params['splitter'], best_params['max_depth'], best_acc_score))"
   ]
  },
  {
   "cell_type": "code",
   "execution_count": 15,
   "metadata": {},
   "outputs": [
    {
     "name": "stdout",
     "output_type": "stream",
     "text": [
      "Accuracy:  0.8842328042328043\n"
     ]
    }
   ],
   "source": [
    "best_model.fit(x_train, y_train)\n",
    "print(\"Accuracy: \", accuracy_score(y_test, best_model.predict(x_test)))"
   ]
  },
  {
   "cell_type": "markdown",
   "metadata": {},
   "source": [
    "# SVM"
   ]
  },
  {
   "cell_type": "code",
   "execution_count": 17,
   "metadata": {},
   "outputs": [
    {
     "name": "stdout",
     "output_type": "stream",
     "text": [
      "Best model params: \n",
      "C: 0.1 | Kernel: linear | Tol: 0.001 - > Accuracy = 0.9571428571428572\n"
     ]
    }
   ],
   "source": [
    "hyperParameters = {\n",
    "    'c' : [0.1, 0.2, 0.5, 1, 2, 5],\n",
    "    'kernel' : ['linear', 'poly', 'rbf', 'sigmoid', 'precomputed'],\n",
    "    'tol':[0.001, 0.01, 0.1, 1]\n",
    "}\n",
    "\n",
    "best_model = None\n",
    "best_params = {\n",
    "    'c' : 0.1,\n",
    "    'kernel' : 'linear',\n",
    "    'tol':0.001\n",
    "}\n",
    "\n",
    "best_acc_score = 0\n",
    "\n",
    "size = len(hyperParameters['c'])*len(hyperParameters['kernel'])*len(hyperParameters['tol'])\n",
    "counter = 1\n",
    "\n",
    "for c in hyperParameters['c']:\n",
    "    for kernel in hyperParameters['kernel']:\n",
    "        for tol in hyperParameters['tol']:\n",
    "            print(\"\\r{0}/{1} : C: {2} | Kernel: {3} | Tol: {4}\".format(counter, size, c, kernel, tol), end='')\n",
    "            counter += 1\n",
    "            try:\n",
    "                model = SVC()\n",
    "                model.fit(x_train_s, y_train_s)\n",
    "                acc_score = accuracy_score(y_test_s, model.predict(x_test_s))\n",
    "                if acc_score > best_acc_score:\n",
    "                    best_params['c'] = c\n",
    "                    best_params['kernel'] = kernel\n",
    "                    best_params['tol'] = tol\n",
    "                    best_acc_score = acc_score\n",
    "                    best_model = model\n",
    "            except Exception as ex:\n",
    "                continue\n",
    "\n",
    "print(\"\\rBest model params: \\nC: {0} | Kernel: {1} | Tol: {2} - > Accuracy = {3}\".format(best_params['c'], best_params['kernel'], best_params['tol'], best_acc_score))"
   ]
  },
  {
   "cell_type": "code",
   "execution_count": 18,
   "metadata": {},
   "outputs": [
    {
     "name": "stdout",
     "output_type": "stream",
     "text": [
      "Accuracy:  0.9811640211640211\n"
     ]
    }
   ],
   "source": [
    "best_model.fit(x_train, y_train)\n",
    "print(\"Accuracy: \", accuracy_score(y_test, best_model.predict(x_test)))"
   ]
  }
 ],
 "metadata": {
  "interpreter": {
   "hash": "563facdaaa910386e02e49be541227cb15c20e9a383f1a78b46b53d42b86b71b"
  },
  "kernelspec": {
   "display_name": "Python 3.8.12 64-bit ('base': conda)",
   "name": "python3"
  },
  "language_info": {
   "codemirror_mode": {
    "name": "ipython",
    "version": 3
   },
   "file_extension": ".py",
   "mimetype": "text/x-python",
   "name": "python",
   "nbconvert_exporter": "python",
   "pygments_lexer": "ipython3",
   "version": "3.9.5"
  },
  "orig_nbformat": 4
 },
 "nbformat": 4,
 "nbformat_minor": 2
}
