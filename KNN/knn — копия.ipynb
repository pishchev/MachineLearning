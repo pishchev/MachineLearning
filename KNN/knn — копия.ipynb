{
 "cells": [
  {
   "cell_type": "code",
   "execution_count": 2,
   "source": [
    "import matplotlib.pyplot as plt\r\n",
    "from mpl_toolkits.mplot3d import Axes3D\r\n",
    "from sklearn import datasets\r\n",
    "from sklearn.decomposition import PCA\r\n",
    "from sklearn.model_selection import train_test_split\r\n",
    "import math\r\n",
    "import numpy as np\r\n",
    "from scipy.spatial import distance\r\n",
    "\r\n",
    "import kernels\r\n",
    "import utils\r\n",
    "import trainer"
   ],
   "outputs": [],
   "metadata": {}
  },
  {
   "cell_type": "code",
   "execution_count": 3,
   "source": [
    "iris = datasets.load_iris()\r\n",
    "X = iris.data\r\n",
    "Y = iris.target\r\n",
    "train_data, test_data, train_labels, test_labels = train_test_split(X, Y, test_size = 0.3, random_state = 0)"
   ],
   "outputs": [],
   "metadata": {}
  },
  {
   "cell_type": "code",
   "execution_count": 4,
   "source": [
    "h = 0\r\n",
    "n = 0"
   ],
   "outputs": [],
   "metadata": {}
  },
  {
   "cell_type": "code",
   "execution_count": 5,
   "source": [
    "def dist(sample1,sample2,n=2):\r\n",
    "    return distance.minkowski(sample1,sample2,n)\r\n",
    "\r\n",
    "def max_distance(n=2):\r\n",
    "    mx = 0\r\n",
    "    for x in train_data:\r\n",
    "        for y in train_data:\r\n",
    "            mx = max(mx, dist(x,y,n))\r\n",
    "    return mx"
   ],
   "outputs": [],
   "metadata": {}
  },
  {
   "cell_type": "code",
   "execution_count": 6,
   "source": [
    "def predict(sample, weights, kernel=kernels.Gauss):\r\n",
    "    resVec = np.zeros(Y.shape[0])\r\n",
    "    for index in range(len(train_data)):\r\n",
    "        label = train_labels[index]\r\n",
    "        train_sample = train_data[index]\r\n",
    "        weight = weights[index]\r\n",
    "        resVec[label] +=  weight * kernel(dist(train_sample,sample,n) / h)\r\n",
    "    return np.argmax(resVec)  \r\n",
    "\r\n",
    "def train_weights(times=20, kernel=kernels.Gauss):\r\n",
    "    weights = np.zeros_like(train_labels)\r\n",
    "    weights[0] = 1\r\n",
    "\r\n",
    "    for repeat in range(times):\r\n",
    "        copy_weights = weights.copy()\r\n",
    "        for index in range(len(train_data)):\r\n",
    "            sample = train_data[index]\r\n",
    "            label = train_labels[index]\r\n",
    "            if (predict(sample, weights, kernel) != label):\r\n",
    "                weights[index] += 1\r\n",
    "        if (np.array_equal(copy_weights,weights)):\r\n",
    "            print(\"Ready!\")\r\n",
    "            break\r\n",
    "        print(\"Epoch \" + str(repeat +1) +\" completed\")\r\n",
    "\r\n",
    "    return weights"
   ],
   "outputs": [],
   "metadata": {}
  },
  {
   "cell_type": "code",
   "execution_count": 7,
   "source": [
    "def accuracy(weights, kernel=kernels.Gauss):\r\n",
    "    trues = 0\r\n",
    "    for index in range(len(test_labels)):\r\n",
    "        sample = test_data[index]\r\n",
    "        label = test_labels[index]\r\n",
    "        if (predict(sample, weights, kernel) == label):\r\n",
    "            trues += 1\r\n",
    "        else:\r\n",
    "            print(\"Wrong index: \" + str(index) +  \" Predict: \" + str(predict(sample, weights, kernel))  + \" Truth: \"  + str(label))\r\n",
    "    print(str(trues)+\"/\"+str(len(test_labels)))\r\n",
    "    return trues/len(test_labels)\r\n"
   ],
   "outputs": [],
   "metadata": {}
  },
  {
   "cell_type": "code",
   "execution_count": 8,
   "source": [
    "n = 2\r\n",
    "h = max_distance(n)\r\n",
    "metric = kernels.Gauss\r\n",
    "epoch = 20"
   ],
   "outputs": [],
   "metadata": {}
  },
  {
   "cell_type": "code",
   "execution_count": 9,
   "source": [
    "weights = train_weights(epoch, metric)\r\n",
    "print(weights)\r\n",
    "accuracy(weights, metric)"
   ],
   "outputs": [
    {
     "output_type": "stream",
     "name": "stdout",
     "text": [
      "Epoch 1 completed\n",
      "Epoch 2 completed\n",
      "Epoch 3 completed\n",
      "Epoch 4 completed\n",
      "Epoch 5 completed\n",
      "Epoch 6 completed\n",
      "Epoch 7 completed\n",
      "Epoch 8 completed\n",
      "Epoch 9 completed\n",
      "Epoch 10 completed\n",
      "Epoch 11 completed\n",
      "Epoch 12 completed\n",
      "Ready!\n",
      "[1 1 0 2 0 2 0 1 0 1 0 9 0 9 0 1 7 1 0 0 0 1 1 3 1 0 0 6 1 1 1 1 2 1 0 2 0\n",
      " 0 0 0 0 0 0 0 0 0 0 0 0 0 0 0 0 0 0 0 0 0 0 0 0 0 0 0 0 0 1 0 0 0 0 0 0 0\n",
      " 8 0 0 0 0 0 0 0 8 0 0 0 0 1 4 8 0 5 0 0 0 0 6 0 3 2 0 6 0 0 0]\n",
      "Wrong index: 24 Predict: 1 Truth: 2\n",
      "Wrong index: 37 Predict: 2 Truth: 1\n",
      "43/45\n"
     ]
    },
    {
     "output_type": "execute_result",
     "data": {
      "text/plain": [
       "0.9555555555555556"
      ]
     },
     "metadata": {},
     "execution_count": 9
    }
   ],
   "metadata": {}
  }
 ],
 "metadata": {
  "orig_nbformat": 4,
  "language_info": {
   "name": "python",
   "version": "3.8.8",
   "mimetype": "text/x-python",
   "codemirror_mode": {
    "name": "ipython",
    "version": 3
   },
   "pygments_lexer": "ipython3",
   "nbconvert_exporter": "python",
   "file_extension": ".py"
  },
  "kernelspec": {
   "name": "python3",
   "display_name": "Python 3.8.8 64-bit ('base': conda)"
  },
  "interpreter": {
   "hash": "563facdaaa910386e02e49be541227cb15c20e9a383f1a78b46b53d42b86b71b"
  }
 },
 "nbformat": 4,
 "nbformat_minor": 2
}